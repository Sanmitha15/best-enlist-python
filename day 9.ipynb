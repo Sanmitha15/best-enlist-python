{
 "cells": [
  {
   "cell_type": "code",
   "execution_count": null,
   "id": "1899d146",
   "metadata": {},
   "outputs": [],
   "source": [
    "#Write a program to loop through a list of numbers and add +2 to every value to elements in list"
   ]
  },
  {
   "cell_type": "code",
   "execution_count": 1,
   "id": "76611cfc",
   "metadata": {},
   "outputs": [
    {
     "name": "stdout",
     "output_type": "stream",
     "text": [
      "[12, 13, 14, 15, 16, 17, 18, 19, 20, 21, 22]\n"
     ]
    }
   ],
   "source": [
    "list1=[10,11,12,13,14,15,16,17,18,19,20]\n",
    "result=[]\n",
    "for i in list1:\n",
    "    result.append(i+2)\n",
    "print(result)"
   ]
  },
  {
   "cell_type": "code",
   "execution_count": null,
   "id": "a80e9873",
   "metadata": {},
   "outputs": [],
   "source": [
    "Write a program to get the below pattern\n",
    "54321\n",
    "4321\n",
    "321\n",
    "21\n",
    "1"
   ]
  },
  {
   "cell_type": "code",
   "execution_count": 2,
   "id": "479b8532",
   "metadata": {},
   "outputs": [
    {
     "name": "stdout",
     "output_type": "stream",
     "text": [
      "5 4 3 2 1 \n",
      "4 3 2 1 \n",
      "3 2 1 \n",
      "2 1 \n",
      "1 \n"
     ]
    }
   ],
   "source": [
    "for i in range(5,0,-1):\n",
    "    for j in range(i,0,-1):\n",
    "        print(j,end=' ')\n",
    "    print()"
   ]
  },
  {
   "cell_type": "code",
   "execution_count": null,
   "id": "831eb826",
   "metadata": {},
   "outputs": [],
   "source": [
    "#Python Program to Print the Fibonacci sequence"
   ]
  },
  {
   "cell_type": "code",
   "execution_count": 3,
   "id": "a265dc01",
   "metadata": {},
   "outputs": [],
   "source": [
    "def Fib(n):\n",
    "   \n",
    "    if n < 0:\n",
    "        print(\"Incorrect input\")\n",
    " \n",
    "    elif n == 1 or n == 2:\n",
    "        return 1\n",
    " \n",
    "    else:\n",
    "        return Fib(n-1) + Fib(n-2)\n"
   ]
  },
  {
   "cell_type": "code",
   "execution_count": 4,
   "id": "5b705185",
   "metadata": {},
   "outputs": [
    {
     "name": "stdout",
     "output_type": "stream",
     "text": [
      "89\n"
     ]
    }
   ],
   "source": [
    "print(Fib(11))"
   ]
  },
  {
   "cell_type": "code",
   "execution_count": 5,
   "id": "452e1299",
   "metadata": {},
   "outputs": [],
   "source": [
    "def Fibonacci(n):\n",
    "    n1, n2 = 0, 1\n",
    "    count = 0\n",
    "    if n<0:\n",
    "        print(\"Incorrect Input\")\n",
    "    elif n == 1 or n == 2:\n",
    "        print('1')\n",
    "    else :\n",
    "         while count < n:\n",
    "                print(n1)\n",
    "                nth = n1 + n2\n",
    "                n1 = n2\n",
    "                n2 = nth\n",
    "                count += 1"
   ]
  },
  {
   "cell_type": "code",
   "execution_count": 6,
   "id": "949b63c6",
   "metadata": {},
   "outputs": [
    {
     "name": "stdout",
     "output_type": "stream",
     "text": [
      "0\n",
      "1\n",
      "1\n",
      "2\n",
      "3\n",
      "5\n",
      "8\n",
      "13\n",
      "21\n",
      "34\n",
      "55\n",
      "89\n"
     ]
    }
   ],
   "source": [
    "Fibonacci(12)"
   ]
  },
  {
   "cell_type": "code",
   "execution_count": null,
   "id": "21043feb",
   "metadata": {},
   "outputs": [],
   "source": [
    "#Explain Armstrong number and write a code with a function\n",
    "armstrong number the number whose digit cube is equal to the same number Example :153 111=1 555=125 333=27 1+125+27=153 this is the same input number"
   ]
  },
  {
   "cell_type": "code",
   "execution_count": 7,
   "id": "081b8de5",
   "metadata": {},
   "outputs": [
    {
     "name": "stdout",
     "output_type": "stream",
     "text": [
      "Enter a number: 22\n",
      "22 is not an Armstrong number\n"
     ]
    }
   ],
   "source": [
    "num = int(input(\"Enter a number: \"))\n",
    "sum1 = 0\n",
    "temp1 = num\n",
    "while temp1 > 0:\n",
    "    digit1 = temp1 % 10\n",
    "    sum1 += digit1**3\n",
    "    temp1 //= 10\n",
    "if num == sum1:\n",
    "    print(num,\"is an Armstrong number\")\n",
    "else:\n",
    "    print(num,\"is not an Armstrong number\")"
   ]
  },
  {
   "cell_type": "code",
   "execution_count": null,
   "id": "f828041b",
   "metadata": {},
   "outputs": [],
   "source": [
    "#Write a program to print the multiplication table of 9"
   ]
  },
  {
   "cell_type": "code",
   "execution_count": 8,
   "id": "c3610dfc",
   "metadata": {},
   "outputs": [
    {
     "name": "stdout",
     "output_type": "stream",
     "text": [
      "9 x  1  =  9\n",
      "9 x  2  =  18\n",
      "9 x  3  =  27\n",
      "9 x  4  =  36\n",
      "9 x  5  =  45\n",
      "9 x  6  =  54\n",
      "9 x  7  =  63\n",
      "9 x  8  =  72\n",
      "9 x  9  =  81\n",
      "9 x  10  =  90\n"
     ]
    }
   ],
   "source": [
    "for i in range(1,11):\n",
    "    print(\"9 x \",i,' = ',i*9 )"
   ]
  },
  {
   "cell_type": "code",
   "execution_count": null,
   "id": "9e89bf6f",
   "metadata": {},
   "outputs": [],
   "source": [
    "#Check if a program is negative or positive"
   ]
  },
  {
   "cell_type": "code",
   "execution_count": 9,
   "id": "4d1c1851",
   "metadata": {},
   "outputs": [
    {
     "name": "stdout",
     "output_type": "stream",
     "text": [
      "0  is positive\n",
      "2  is positive\n",
      "3  is positive\n",
      "-9  is negative \n",
      "6  is positive\n",
      "8  is positive\n",
      "-55  is negative \n"
     ]
    }
   ],
   "source": [
    "gi=[0,2,+3,-9,6,+8,-55]\n",
    "for i in gi:\n",
    "    if i >=0:\n",
    "        print(i,\" is positive\")\n",
    "    else :\n",
    "        print(i,' is negative ')"
   ]
  },
  {
   "cell_type": "code",
   "execution_count": null,
   "id": "edd4a29d",
   "metadata": {},
   "outputs": [],
   "source": [
    "#Write a program to convert the number of days to ages"
   ]
  },
  {
   "cell_type": "code",
   "execution_count": 10,
   "id": "9d1b3e13",
   "metadata": {},
   "outputs": [],
   "source": [
    "def find( number_of_days ):\n",
    "    year = int(number_of_days / 365)\n",
    "    print(year,'Years ago !')"
   ]
  },
  {
   "cell_type": "code",
   "execution_count": 11,
   "id": "a9669dfd",
   "metadata": {},
   "outputs": [
    {
     "name": "stdout",
     "output_type": "stream",
     "text": [
      "1 Years ago !\n"
     ]
    }
   ],
   "source": [
    "no_days=675\n",
    "find(no_days)"
   ]
  },
  {
   "cell_type": "code",
   "execution_count": 12,
   "id": "8a564a86",
   "metadata": {},
   "outputs": [
    {
     "name": "stdout",
     "output_type": "stream",
     "text": [
      "4 Years ago !\n"
     ]
    }
   ],
   "source": [
    "no_days=1675\n",
    "find(no_days)"
   ]
  },
  {
   "cell_type": "code",
   "execution_count": null,
   "id": "593de8b2",
   "metadata": {},
   "outputs": [],
   "source": [
    "#Solve Trigonometry problem using math function write a program to solve using math function"
   ]
  },
  {
   "cell_type": "code",
   "execution_count": 13,
   "id": "b7c10dc9",
   "metadata": {},
   "outputs": [],
   "source": [
    "import math\n",
    "def trigo(n,m):\n",
    "    if n=='sin':\n",
    "        return math.sin(m)\n",
    "    elif n=='cos':\n",
    "        return math.cos(m)\n",
    "    elif n=='cosin':\n",
    "        return math.cosine(m)\n",
    "    elif n=='tan':\n",
    "        return math.tan(m)\n",
    "    elif n=='sec':\n",
    "        return math.sec(m)\n",
    "    elif n=='cosec':\n",
    "        return math.cosec(m)"
   ]
  },
  {
   "cell_type": "code",
   "execution_count": 14,
   "id": "f64fe918",
   "metadata": {},
   "outputs": [
    {
     "data": {
      "text/plain": [
       "-0.9880316240928618"
      ]
     },
     "execution_count": 14,
     "metadata": {},
     "output_type": "execute_result"
    }
   ],
   "source": [
    "trigo('sin',30)"
   ]
  },
  {
   "cell_type": "code",
   "execution_count": 15,
   "id": "6507fe5d",
   "metadata": {},
   "outputs": [
    {
     "data": {
      "text/plain": [
       "0.320040389379563"
      ]
     },
     "execution_count": 15,
     "metadata": {},
     "output_type": "execute_result"
    }
   ],
   "source": [
    "trigo('tan',60)"
   ]
  },
  {
   "cell_type": "code",
   "execution_count": 16,
   "id": "3dfb82a7",
   "metadata": {},
   "outputs": [
    {
     "data": {
      "text/plain": [
       "-0.4480736161291701"
      ]
     },
     "execution_count": 16,
     "metadata": {},
     "output_type": "execute_result"
    }
   ],
   "source": [
    "trigo('cos',90)"
   ]
  },
  {
   "cell_type": "code",
   "execution_count": null,
   "id": "9b1e3372",
   "metadata": {},
   "outputs": [],
   "source": [
    "#create a basic calculator using if condition only"
   ]
  },
  {
   "cell_type": "code",
   "execution_count": 17,
   "id": "5de94495",
   "metadata": {},
   "outputs": [],
   "source": [
    "def calculator():\n",
    "    print('+')\n",
    "    print('-')\n",
    "    print('*')\n",
    "    print('/')\n",
    "    print('%')\n",
    "    print('**')\n",
    "    operation = input(\"Select an operator:n\")\n",
    "    print(\"Enter two numbers\")\n",
    "    number_1 = int(input())\n",
    "    number_2 = int(input())\n",
    "\n",
    "    if operation == '+': # To add two numbers\n",
    "        print(number_1 + number_2)\n",
    "    elif operation == '-': # To subtract two numbers\n",
    "        print(number_1 - number_2)\n",
    "    elif operation == '*': # To multiply two numbers\n",
    "        print(number_1 * number_2)\n",
    "    elif operation == '/': # To divide two numbers\n",
    "        print(number_1 / number_2)\n",
    "    elif operation == '%': # To remainder two numbers\n",
    "        print(number_1 % number_2)\n",
    "    elif operation == '**': # To num1 exponent num2\n",
    "        print(number_1 ** number_2)\n",
    "    else:\n",
    "        print('Invalid Input')"
   ]
  },
  {
   "cell_type": "code",
   "execution_count": 18,
   "id": "666247fd",
   "metadata": {},
   "outputs": [
    {
     "name": "stdout",
     "output_type": "stream",
     "text": [
      "+\n",
      "-\n",
      "*\n",
      "/\n",
      "%\n",
      "**\n",
      "Select an operator:n+\n",
      "Enter two numbers\n",
      "20\n",
      "30\n",
      "50\n"
     ]
    }
   ],
   "source": [
    "calculator()"
   ]
  },
  {
   "cell_type": "code",
   "execution_count": 19,
   "id": "07c91011",
   "metadata": {},
   "outputs": [
    {
     "name": "stdout",
     "output_type": "stream",
     "text": [
      "+\n",
      "-\n",
      "*\n",
      "/\n",
      "%\n",
      "**\n",
      "Select an operator:n%\n",
      "Enter two numbers\n",
      "34\n",
      "5\n",
      "4\n"
     ]
    }
   ],
   "source": [
    "calculator()"
   ]
  }
 ],
 "metadata": {
  "kernelspec": {
   "display_name": "Python 3",
   "language": "python",
   "name": "python3"
  },
  "language_info": {
   "codemirror_mode": {
    "name": "ipython",
    "version": 3
   },
   "file_extension": ".py",
   "mimetype": "text/x-python",
   "name": "python",
   "nbconvert_exporter": "python",
   "pygments_lexer": "ipython3",
   "version": "3.8.1"
  }
 },
 "nbformat": 4,
 "nbformat_minor": 5
}
