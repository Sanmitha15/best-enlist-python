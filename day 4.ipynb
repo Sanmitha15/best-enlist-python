{
 "cells": [
  {
   "cell_type": "code",
   "execution_count": null,
   "id": "e176b2b1",
   "metadata": {},
   "outputs": [],
   "source": [
    "#create three variables (a,b,c) of same value of any integer"
   ]
  },
  {
   "cell_type": "code",
   "execution_count": 3,
   "id": "b0a898e5",
   "metadata": {},
   "outputs": [
    {
     "name": "stdout",
     "output_type": "stream",
     "text": [
      "40\n",
      "40\n",
      "40\n"
     ]
    }
   ],
   "source": [
    "a = 40\n",
    "b = 40\n",
    "c = 40\n",
    "print(a)\n",
    "print(b)\n",
    "print(c)"
   ]
  },
  {
   "cell_type": "code",
   "execution_count": 41,
   "id": "49c5ceaa",
   "metadata": {},
   "outputs": [
    {
     "name": "stdout",
     "output_type": "stream",
     "text": [
      "4.0\n"
     ]
    }
   ],
   "source": [
    "divide =(a/10)\n",
    "print(divide)"
   ]
  },
  {
   "cell_type": "code",
   "execution_count": 5,
   "id": "14b5c5e7",
   "metadata": {},
   "outputs": [
    {
     "name": "stdout",
     "output_type": "stream",
     "text": [
      "400\n"
     ]
    }
   ],
   "source": [
    "multiply = b*10\n",
    "print(multiply)"
   ]
  },
  {
   "cell_type": "code",
   "execution_count": 6,
   "id": "4918bed7",
   "metadata": {},
   "outputs": [
    {
     "name": "stdout",
     "output_type": "stream",
     "text": [
      "100\n"
     ]
    }
   ],
   "source": [
    "add = c+60\n",
    "print(add)"
   ]
  },
  {
   "cell_type": "code",
   "execution_count": null,
   "id": "24c68f92",
   "metadata": {},
   "outputs": [],
   "source": [
    "#create a string variable of 5 characters and replace 3rd character with G"
   ]
  },
  {
   "cell_type": "code",
   "execution_count": 35,
   "id": "f7bb9a0e",
   "metadata": {},
   "outputs": [
    {
     "name": "stdout",
     "output_type": "stream",
     "text": [
      "HANDS\n"
     ]
    }
   ],
   "source": [
    "str = \"HANDS\"\n",
    "print(str)"
   ]
  },
  {
   "cell_type": "code",
   "execution_count": 36,
   "id": "dedba8f9",
   "metadata": {},
   "outputs": [
    {
     "name": "stdout",
     "output_type": "stream",
     "text": [
      "HAGDS\n"
     ]
    }
   ],
   "source": [
    "x = str.replace('N','G')\n",
    "print(x)"
   ]
  },
  {
   "cell_type": "code",
   "execution_count": null,
   "id": "0a50bbad",
   "metadata": {},
   "outputs": [],
   "source": [
    "#create two values (a,b) of int,float data type and convert the viseversa"
   ]
  },
  {
   "cell_type": "code",
   "execution_count": null,
   "id": "2017f4e9",
   "metadata": {},
   "outputs": [],
   "source": [
    "#convert from int to float data type"
   ]
  },
  {
   "cell_type": "code",
   "execution_count": 37,
   "id": "00267e54",
   "metadata": {},
   "outputs": [
    {
     "name": "stdout",
     "output_type": "stream",
     "text": [
      "9.0\n"
     ]
    }
   ],
   "source": [
    "a_int = 5\n",
    "b_int = 4\n",
    "c_float_sum = float(a_int + b_int)\n",
    "print(c_float_sum)"
   ]
  },
  {
   "cell_type": "code",
   "execution_count": null,
   "id": "c655879e",
   "metadata": {},
   "outputs": [],
   "source": [
    "#convert from float to int data type"
   ]
  },
  {
   "cell_type": "code",
   "execution_count": 39,
   "id": "1d8a8423",
   "metadata": {},
   "outputs": [
    {
     "name": "stdout",
     "output_type": "stream",
     "text": [
      "8\n"
     ]
    }
   ],
   "source": [
    "a_float = 5.0\n",
    "b_float = 3.3\n",
    "c_int_sum = int(a_float + b_float)\n",
    "print(c_int_sum)"
   ]
  }
 ],
 "metadata": {
  "kernelspec": {
   "display_name": "Python 3",
   "language": "python",
   "name": "python3"
  },
  "language_info": {
   "codemirror_mode": {
    "name": "ipython",
    "version": 3
   },
   "file_extension": ".py",
   "mimetype": "text/x-python",
   "name": "python",
   "nbconvert_exporter": "python",
   "pygments_lexer": "ipython3",
   "version": "3.8.1"
  }
 },
 "nbformat": 4,
 "nbformat_minor": 5
}
