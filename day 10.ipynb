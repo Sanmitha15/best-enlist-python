{
 "cells": [
  {
   "cell_type": "code",
   "execution_count": null,
   "id": "a94fceb5",
   "metadata": {},
   "outputs": [],
   "source": [
    "#INHERITANCE\n",
    "Create a real time scenario for inheritance example Banking concept"
   ]
  },
  {
   "cell_type": "code",
   "execution_count": 2,
   "id": "2210c29b",
   "metadata": {},
   "outputs": [],
   "source": [
    "class Bank_Account:\n",
    "    def __init__(self):\n",
    "        self.balance=0\n",
    "        print(\"Hello!!! Welcome to the Deposit & Withdrawal Machine\")\n",
    "    def display(self):\n",
    "        print(\"\\n Net Available Balance=\",self.balance)"
   ]
  },
  {
   "cell_type": "code",
   "execution_count": 3,
   "id": "7286fbc2",
   "metadata": {},
   "outputs": [],
   "source": [
    "class Deposit(Bank_Account):  #inheritance\n",
    "    def deposit(self):\n",
    "        amount=float(input(\"Enter amount to be Deposited: \"))\n",
    "        self.balance += amount\n",
    "        print(\"\\n Amount Deposited:\",amount)"
   ]
  },
  {
   "cell_type": "code",
   "execution_count": 4,
   "id": "0046ca67",
   "metadata": {},
   "outputs": [],
   "source": [
    "class Withdraw(Bank_Account):  #mutiple inheritance\n",
    "    def withdraw(self):\n",
    "        amount = float(input(\"Enter amount to be Withdrawn: \"))\n",
    "        if self.balance>=amount:\n",
    "            self.balance-=amount\n",
    "            print(\"\\n You Withdrew:\", amount)\n",
    "        else:\n",
    "            print(\"\\n Insufficient balance  \")"
   ]
  },
  {
   "cell_type": "code",
   "execution_count": 5,
   "id": "3e0e6d57",
   "metadata": {},
   "outputs": [
    {
     "name": "stdout",
     "output_type": "stream",
     "text": [
      "Hello!!! Welcome to the Deposit & Withdrawal Machine\n"
     ]
    }
   ],
   "source": [
    "s = Bank_Account()"
   ]
  },
  {
   "cell_type": "code",
   "execution_count": 6,
   "id": "87d94524",
   "metadata": {},
   "outputs": [
    {
     "name": "stdout",
     "output_type": "stream",
     "text": [
      "Hello!!! Welcome to the Deposit & Withdrawal Machine\n",
      "Enter amount to be Deposited: 2000\n",
      "\n",
      " Amount Deposited: 2000.0\n"
     ]
    }
   ],
   "source": [
    "p=Deposit()\n",
    "p.deposit()"
   ]
  },
  {
   "cell_type": "code",
   "execution_count": 7,
   "id": "16bf6450",
   "metadata": {},
   "outputs": [
    {
     "name": "stdout",
     "output_type": "stream",
     "text": [
      "Hello!!! Welcome to the Deposit & Withdrawal Machine\n",
      "Enter amount to be Withdrawn: 2000\n",
      "\n",
      " Insufficient balance  \n",
      "\n",
      " Net Available Balance= 0\n"
     ]
    }
   ],
   "source": [
    "q=Withdraw()\n",
    "q.withdraw()\n",
    "s.display()"
   ]
  }
 ],
 "metadata": {
  "kernelspec": {
   "display_name": "Python 3",
   "language": "python",
   "name": "python3"
  },
  "language_info": {
   "codemirror_mode": {
    "name": "ipython",
    "version": 3
   },
   "file_extension": ".py",
   "mimetype": "text/x-python",
   "name": "python",
   "nbconvert_exporter": "python",
   "pygments_lexer": "ipython3",
   "version": "3.8.1"
  }
 },
 "nbformat": 4,
 "nbformat_minor": 5
}
