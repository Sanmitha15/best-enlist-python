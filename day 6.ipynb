{
 "cells": [
  {
   "cell_type": "code",
   "execution_count": null,
   "id": "9000343b",
   "metadata": {},
   "outputs": [],
   "source": [
    "#write a python script to merge two python dictionaries"
   ]
  },
  {
   "cell_type": "code",
   "execution_count": 5,
   "id": "d895ab7a",
   "metadata": {},
   "outputs": [
    {
     "name": "stdout",
     "output_type": "stream",
     "text": [
      "{1: 'apple', 2: 'banana', 3: 'orange', 4: 'kiwi', 5: 'mango'}\n"
     ]
    }
   ],
   "source": [
    "first_dict = {1:'apple',2:'banana',3:'orange'}\n",
    "second_dict = {4:'kiwi',5:'mango'}\n",
    "first_dict.update(second_dict)\n",
    "print(first_dict)"
   ]
  },
  {
   "cell_type": "code",
   "execution_count": null,
   "id": "7d0f91bc",
   "metadata": {},
   "outputs": [],
   "source": [
    "#write a python program to remove a key from a dictionary"
   ]
  },
  {
   "cell_type": "code",
   "execution_count": 22,
   "id": "2e638fed",
   "metadata": {},
   "outputs": [
    {
     "name": "stdout",
     "output_type": "stream",
     "text": [
      "{1: 'rose', 3: 'lily', 4: 'sunflower', 5: 'lotus'}\n"
     ]
    }
   ],
   "source": [
    "dict = {1:'rose',2:'jasmine',3:'lily',4:'sunflower',5:'lotus'}\n",
    "dict.pop(2)\n",
    "print(dict)"
   ]
  },
  {
   "cell_type": "code",
   "execution_count": null,
   "id": "193d1e79",
   "metadata": {},
   "outputs": [],
   "source": [
    "#write a python program to map two lists into a dictionary"
   ]
  },
  {
   "cell_type": "code",
   "execution_count": 49,
   "id": "36a895ab",
   "metadata": {},
   "outputs": [
    {
     "name": "stdout",
     "output_type": "stream",
     "text": [
      "{'name': 'john', 'age': '25', 'job': 'developer'}\n"
     ]
    }
   ],
   "source": [
    "keys = ['name','age','job']\n",
    "values = ['john','25','developer']\n",
    "d = {keys[i]:values[i] for i in range(len(keys))}\n",
    "print(d)"
   ]
  },
  {
   "cell_type": "code",
   "execution_count": null,
   "id": "aa13f8d7",
   "metadata": {},
   "outputs": [],
   "source": [
    "#write a python program to find the length of a set"
   ]
  },
  {
   "cell_type": "code",
   "execution_count": 50,
   "id": "6911595f",
   "metadata": {},
   "outputs": [
    {
     "name": "stdout",
     "output_type": "stream",
     "text": [
      "6\n"
     ]
    }
   ],
   "source": [
    "A = {'a','e','i','o','u',\"hello\"}\n",
    "x = len(A)\n",
    "print(x)"
   ]
  },
  {
   "cell_type": "code",
   "execution_count": null,
   "id": "f071a864",
   "metadata": {},
   "outputs": [],
   "source": [
    "#write a python program to remove the intersection of a 2nd set from the 1st set"
   ]
  },
  {
   "cell_type": "code",
   "execution_count": 53,
   "id": "c17e92b0",
   "metadata": {},
   "outputs": [
    {
     "name": "stdout",
     "output_type": "stream",
     "text": [
      "{1, 2, 3}\n",
      "(4, 5, 6, 7, 8, 9)\n"
     ]
    }
   ],
   "source": [
    "s1 = {1,2,3,4,5,6}\n",
    "s2 = (4,5,6,7,8,9)\n",
    "s1.difference_update(s2)\n",
    "print(s1)\n",
    "print(s2)"
   ]
  }
 ],
 "metadata": {
  "kernelspec": {
   "display_name": "Python 3",
   "language": "python",
   "name": "python3"
  },
  "language_info": {
   "codemirror_mode": {
    "name": "ipython",
    "version": 3
   },
   "file_extension": ".py",
   "mimetype": "text/x-python",
   "name": "python",
   "nbconvert_exporter": "python",
   "pygments_lexer": "ipython3",
   "version": "3.8.1"
  }
 },
 "nbformat": 4,
 "nbformat_minor": 5
}
