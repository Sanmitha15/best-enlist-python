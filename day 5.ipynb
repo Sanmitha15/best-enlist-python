{
 "cells": [
  {
   "cell_type": "code",
   "execution_count": null,
   "id": "23177bb2",
   "metadata": {},
   "outputs": [],
   "source": [
    "#create a list and add an item into the list"
   ]
  },
  {
   "cell_type": "code",
   "execution_count": 36,
   "id": "38fe2620",
   "metadata": {},
   "outputs": [
    {
     "name": "stdout",
     "output_type": "stream",
     "text": [
      "[100, 300, 500, 700, 900, 1300]\n"
     ]
    }
   ],
   "source": [
    "item = [100,300,500,700,900,1300]\n",
    "n = (item[:6])\n",
    "print(n)"
   ]
  },
  {
   "cell_type": "code",
   "execution_count": 37,
   "id": "9cdee033",
   "metadata": {},
   "outputs": [
    {
     "name": "stdout",
     "output_type": "stream",
     "text": [
      "[100, 300, 500, 700, 900, 1300, 400]\n"
     ]
    }
   ],
   "source": [
    "item.append(400)\n",
    "print(item)"
   ]
  },
  {
   "cell_type": "code",
   "execution_count": 40,
   "id": "54adcb4c",
   "metadata": {},
   "outputs": [
    {
     "name": "stdout",
     "output_type": "stream",
     "text": [
      "[100, 300, 500, 200, 700, 900, 1300, 400]\n"
     ]
    }
   ],
   "source": [
    "item.insert(3,200)\n",
    "print(item)"
   ]
  },
  {
   "cell_type": "code",
   "execution_count": null,
   "id": "4f22cc3d",
   "metadata": {},
   "outputs": [],
   "source": [
    "#delete a item from the list"
   ]
  },
  {
   "cell_type": "code",
   "execution_count": 47,
   "id": "46b57daa",
   "metadata": {},
   "outputs": [
    {
     "name": "stdout",
     "output_type": "stream",
     "text": [
      "[2, 4, 6, 7, 5, 3]\n"
     ]
    }
   ],
   "source": [
    "item = [2,4,6,8,7,5,3]\n",
    "item.pop(3)\n",
    "print(item)"
   ]
  },
  {
   "cell_type": "code",
   "execution_count": 54,
   "id": "8158d286",
   "metadata": {},
   "outputs": [
    {
     "name": "stdout",
     "output_type": "stream",
     "text": [
      "[2, 4, 6, 8, 7, 5]\n"
     ]
    }
   ],
   "source": [
    "item = [2,4,6,8,7,5,3]\n",
    "item.remove(3)\n",
    "print(item)"
   ]
  },
  {
   "cell_type": "code",
   "execution_count": null,
   "id": "9d896222",
   "metadata": {},
   "outputs": [],
   "source": [
    "#store largest number from list to variable"
   ]
  },
  {
   "cell_type": "code",
   "execution_count": 51,
   "id": "1f3d9bce",
   "metadata": {},
   "outputs": [
    {
     "name": "stdout",
     "output_type": "stream",
     "text": [
      "60\n"
     ]
    }
   ],
   "source": [
    "item = [56,44,60,34,55,10,23]\n",
    "large = max(item)\n",
    "print(large)"
   ]
  },
  {
   "cell_type": "code",
   "execution_count": null,
   "id": "0450157a",
   "metadata": {},
   "outputs": [],
   "source": [
    "#store smallest number from list to variable"
   ]
  },
  {
   "cell_type": "code",
   "execution_count": 52,
   "id": "250af64f",
   "metadata": {},
   "outputs": [
    {
     "name": "stdout",
     "output_type": "stream",
     "text": [
      "10\n"
     ]
    }
   ],
   "source": [
    "item = [56,44,60,34,55,10,23]\n",
    "small = min(item)\n",
    "print(small)"
   ]
  },
  {
   "cell_type": "code",
   "execution_count": null,
   "id": "71049ea6",
   "metadata": {},
   "outputs": [],
   "source": [
    "# create a tuple and reverse a created tuple"
   ]
  },
  {
   "cell_type": "code",
   "execution_count": 2,
   "id": "70f46a26",
   "metadata": {},
   "outputs": [
    {
     "name": "stdout",
     "output_type": "stream",
     "text": [
      "(8, 'hello', 'c', 'a', 5, 3, 1)\n"
     ]
    }
   ],
   "source": [
    "A = (1,3,5,'a','c',\"hello\",8)\n",
    "my_tuple = (A[-1],A[-2],A[-3],A[-4],A[-5],A[-6],A[-7])\n",
    "print(my_tuple)"
   ]
  },
  {
   "cell_type": "code",
   "execution_count": null,
   "id": "f3a573d7",
   "metadata": {},
   "outputs": [],
   "source": [
    "# create a tuple and convert tuple into list"
   ]
  },
  {
   "cell_type": "code",
   "execution_count": 3,
   "id": "5496ef38",
   "metadata": {},
   "outputs": [
    {
     "name": "stdout",
     "output_type": "stream",
     "text": [
      "['hello', 'bye', 1, 4, 5, 'a', 'b']\n"
     ]
    }
   ],
   "source": [
    "my_tuple = (\"hello\",\"bye\",1,4,5,'a','b')\n",
    "l = list(my_tuple)\n",
    "print(l)"
   ]
  },
  {
   "cell_type": "code",
   "execution_count": null,
   "id": "998f1421",
   "metadata": {},
   "outputs": [],
   "source": []
  }
 ],
 "metadata": {
  "kernelspec": {
   "display_name": "Python 3",
   "language": "python",
   "name": "python3"
  },
  "language_info": {
   "codemirror_mode": {
    "name": "ipython",
    "version": 3
   },
   "file_extension": ".py",
   "mimetype": "text/x-python",
   "name": "python",
   "nbconvert_exporter": "python",
   "pygments_lexer": "ipython3",
   "version": "3.8.1"
  }
 },
 "nbformat": 4,
 "nbformat_minor": 5
}
