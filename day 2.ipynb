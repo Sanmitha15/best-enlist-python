{
 "cells": [
  {
   "cell_type": "code",
   "execution_count": 1,
   "id": "ea7cb6ac",
   "metadata": {},
   "outputs": [
    {
     "name": "stdout",
     "output_type": "stream",
     "text": [
      "30 days 30 hours challenge\n",
      "30 days 30 hours challenge\n"
     ]
    }
   ],
   "source": [
    "print(\"30 days 30 hours challenge\")\n",
    "print('30 days 30 hours challenge')"
   ]
  },
  {
   "cell_type": "code",
   "execution_count": 2,
   "id": "1e8dfb42",
   "metadata": {},
   "outputs": [
    {
     "name": "stdout",
     "output_type": "stream",
     "text": [
      "thirty\n"
     ]
    }
   ],
   "source": [
    "Hours = \"thirty\"\n",
    "print(Hours)"
   ]
  },
  {
   "cell_type": "code",
   "execution_count": 3,
   "id": "b2f0e0a9",
   "metadata": {},
   "outputs": [
    {
     "name": "stdout",
     "output_type": "stream",
     "text": [
      "thirty\n"
     ]
    }
   ],
   "source": [
    "Hours = \"thirty\"\n",
    "print(Hours)"
   ]
  },
  {
   "cell_type": "code",
   "execution_count": 5,
   "id": "1795a39e",
   "metadata": {},
   "outputs": [
    {
     "name": "stdout",
     "output_type": "stream",
     "text": [
      "thirty\n"
     ]
    }
   ],
   "source": [
    " Hours = \"thirty\"\n",
    " print(Hours)"
   ]
  },
  {
   "cell_type": "code",
   "execution_count": null,
   "id": "d291c274",
   "metadata": {},
   "outputs": [],
   "source": [
    "INDEX USING STRINGS"
   ]
  },
  {
   "cell_type": "code",
   "execution_count": 8,
   "id": "0c0c9ce2",
   "metadata": {},
   "outputs": [
    {
     "name": "stdout",
     "output_type": "stream",
     "text": [
      "T\n"
     ]
    }
   ],
   "source": [
    "Days = \"Thirty days\"\n",
    "print(Days[0])"
   ]
  },
  {
   "cell_type": "code",
   "execution_count": 9,
   "id": "aec35105",
   "metadata": {},
   "outputs": [
    {
     "name": "stdout",
     "output_type": "stream",
     "text": [
      "days\n"
     ]
    }
   ],
   "source": [
    "print(Days[7:])"
   ]
  },
  {
   "cell_type": "code",
   "execution_count": 10,
   "id": "3a0a4e65",
   "metadata": {},
   "outputs": [
    {
     "name": "stdout",
     "output_type": "stream",
     "text": [
      "ty d\n"
     ]
    }
   ],
   "source": [
    "print(Days[4:8])"
   ]
  },
  {
   "cell_type": "code",
   "execution_count": 11,
   "id": "867a15a6",
   "metadata": {},
   "outputs": [
    {
     "name": "stdout",
     "output_type": "stream",
     "text": [
      "Thirty d\n"
     ]
    }
   ],
   "source": [
    "print(Days[:-3])"
   ]
  },
  {
   "cell_type": "code",
   "execution_count": null,
   "id": "1c3aa065",
   "metadata": {},
   "outputs": [],
   "source": [
    "How to print the particular character from certain text?"
   ]
  },
  {
   "cell_type": "code",
   "execution_count": 12,
   "id": "013bbd92",
   "metadata": {},
   "outputs": [
    {
     "name": "stdout",
     "output_type": "stream",
     "text": [
      "win\n"
     ]
    }
   ],
   "source": [
    "Challenge = \"I will win\"\n",
    "print(Challenge[7:10])"
   ]
  },
  {
   "cell_type": "code",
   "execution_count": 13,
   "id": "5764869c",
   "metadata": {},
   "outputs": [
    {
     "name": "stdout",
     "output_type": "stream",
     "text": [
      "ll win\n"
     ]
    }
   ],
   "source": [
    "print(Challenge[4:])"
   ]
  },
  {
   "cell_type": "code",
   "execution_count": 14,
   "id": "bf351649",
   "metadata": {},
   "outputs": [
    {
     "name": "stdout",
     "output_type": "stream",
     "text": [
      "nl\n"
     ]
    }
   ],
   "source": [
    "print(Challenge[::-5])"
   ]
  },
  {
   "cell_type": "code",
   "execution_count": 15,
   "id": "00d6fb3d",
   "metadata": {},
   "outputs": [
    {
     "name": "stdout",
     "output_type": "stream",
     "text": [
      " wil\n"
     ]
    }
   ],
   "source": [
    "print(Challenge[1:5])"
   ]
  },
  {
   "cell_type": "code",
   "execution_count": 16,
   "id": "3e736092",
   "metadata": {},
   "outputs": [
    {
     "name": "stdout",
     "output_type": "stream",
     "text": [
      "l\n"
     ]
    }
   ],
   "source": [
    "print(Challenge[4:5])"
   ]
  },
  {
   "cell_type": "code",
   "execution_count": 17,
   "id": "6eabf003",
   "metadata": {},
   "outputs": [
    {
     "name": "stdout",
     "output_type": "stream",
     "text": [
      "10\n"
     ]
    }
   ],
   "source": [
    "Challenge = \"I will win\"\n",
    "print(len(Challenge))"
   ]
  },
  {
   "cell_type": "code",
   "execution_count": null,
   "id": "2dfe838f",
   "metadata": {},
   "outputs": [],
   "source": [
    "Convert string into lower character;"
   ]
  },
  {
   "cell_type": "code",
   "execution_count": 18,
   "id": "94a4aeb6",
   "metadata": {},
   "outputs": [
    {
     "name": "stdout",
     "output_type": "stream",
     "text": [
      "i will win\n"
     ]
    }
   ],
   "source": [
    "Challenge = \"I will win\"\n",
    "print(Challenge.lower())"
   ]
  },
  {
   "cell_type": "code",
   "execution_count": null,
   "id": "ec6fef58",
   "metadata": {},
   "outputs": [],
   "source": [
    "string concatenation - joining two strings"
   ]
  },
  {
   "cell_type": "code",
   "execution_count": 19,
   "id": "ff257ee9",
   "metadata": {},
   "outputs": [
    {
     "name": "stdout",
     "output_type": "stream",
     "text": [
      "30 Days30 hours\n"
     ]
    }
   ],
   "source": [
    "a = \"30 Days\"\n",
    "b = \"30 hours\"\n",
    "c = a + b\n",
    "print(c)"
   ]
  },
  {
   "cell_type": "code",
   "execution_count": null,
   "id": "44609aab",
   "metadata": {},
   "outputs": [],
   "source": [
    "adding space during concatenation"
   ]
  },
  {
   "cell_type": "code",
   "execution_count": 20,
   "id": "2242816c",
   "metadata": {},
   "outputs": [
    {
     "name": "stdout",
     "output_type": "stream",
     "text": [
      "30 Days  30 hours\n"
     ]
    }
   ],
   "source": [
    "a = \"30 Days\"\n",
    "b = \"30 hours\"\n",
    "c = a + \"  \" + b\n",
    "print(c)"
   ]
  },
  {
   "cell_type": "code",
   "execution_count": null,
   "id": "a0303108",
   "metadata": {},
   "outputs": [],
   "source": [
    "casefold() - Usage"
   ]
  },
  {
   "cell_type": "code",
   "execution_count": 21,
   "id": "63df0ec1",
   "metadata": {},
   "outputs": [
    {
     "name": "stdout",
     "output_type": "stream",
     "text": [
      "thirty days and thirty hours\n"
     ]
    }
   ],
   "source": [
    "text = \"Thirty days and Thirty hours\"\n",
    "x = text.casefold()\n",
    "print(x)"
   ]
  },
  {
   "cell_type": "code",
   "execution_count": 22,
   "id": "d4e4b4bf",
   "metadata": {},
   "outputs": [
    {
     "name": "stdout",
     "output_type": "stream",
     "text": [
      "Thirty days and thirty hours\n"
     ]
    }
   ],
   "source": [
    "text = \"Thirty days and Thirty hours\"\n",
    "x = text.capitalize()\n",
    "print(x)"
   ]
  },
  {
   "cell_type": "code",
   "execution_count": 23,
   "id": "f6565f1d",
   "metadata": {},
   "outputs": [
    {
     "name": "stdout",
     "output_type": "stream",
     "text": [
      "12\n"
     ]
    }
   ],
   "source": [
    "text = \"Thirty days and Thirty hours\"\n",
    "x = text.find('and')\n",
    "print(x)"
   ]
  },
  {
   "cell_type": "code",
   "execution_count": 24,
   "id": "ce908a1e",
   "metadata": {},
   "outputs": [
    {
     "name": "stdout",
     "output_type": "stream",
     "text": [
      "False\n"
     ]
    }
   ],
   "source": [
    "text = \"Thirty days and Thirty hours\"\n",
    "x = text.isalpha()\n",
    "print(x)"
   ]
  },
  {
   "cell_type": "code",
   "execution_count": 25,
   "id": "833f1c63",
   "metadata": {},
   "outputs": [
    {
     "name": "stdout",
     "output_type": "stream",
     "text": [
      "False\n"
     ]
    }
   ],
   "source": [
    "text = \"Thirty days and Thirty hours\"\n",
    "x = text.isalnum()\n",
    "print(x)"
   ]
  }
 ],
 "metadata": {
  "kernelspec": {
   "display_name": "Python 3",
   "language": "python",
   "name": "python3"
  },
  "language_info": {
   "codemirror_mode": {
    "name": "ipython",
    "version": 3
   },
   "file_extension": ".py",
   "mimetype": "text/x-python",
   "name": "python",
   "nbconvert_exporter": "python",
   "pygments_lexer": "ipython3",
   "version": "3.8.1"
  }
 },
 "nbformat": 4,
 "nbformat_minor": 5
}
