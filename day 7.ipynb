{
 "cells": [
  {
   "cell_type": "code",
   "execution_count": null,
   "id": "13cbf5f6",
   "metadata": {},
   "outputs": [],
   "source": [
    "#create a function getting two integer from user and print\n",
    "#addition of two numbers is +value\n",
    "#subtraction of two numbers +value\n",
    "#multiplication of two numbers +value\n",
    "#division of two numbers +value\n",
    "#here the value represents math function associated"
   ]
  },
  {
   "cell_type": "code",
   "execution_count": 1,
   "id": "7728decf",
   "metadata": {},
   "outputs": [
    {
     "name": "stdout",
     "output_type": "stream",
     "text": [
      "Enter the first value :20\n",
      "Enter the second value: 30\n",
      "Enter '+' for addition , '-' for Subration ,'*' for multiplication, '/ for division'+\n"
     ]
    }
   ],
   "source": [
    "a= int(input(\"Enter the first value :\"))\n",
    "b=int(input(\"Enter the second value: \"))\n",
    "sign1=input(\"Enter '+' for addition , '-' for Subration ,'*' for multiplication, '/ for division'\")"
   ]
  },
  {
   "cell_type": "code",
   "execution_count": 2,
   "id": "3c03c37e",
   "metadata": {},
   "outputs": [],
   "source": [
    "def math_function(a,b,sign):\n",
    "    if sign == '+':\n",
    "        print(\"Addition of a and b is \",str(a+b))\n",
    "    elif sign == '-':\n",
    "        print(\"Subraction of a and b is \",str(a-b))\n",
    "    elif sign == '*':\n",
    "        print(\"Multiplication of a and b is \",str(a*b))\n",
    "    elif sign == '/':\n",
    "        print(\"Division of a and b is \",str(a/b))"
   ]
  },
  {
   "cell_type": "code",
   "execution_count": 3,
   "id": "692e86e1",
   "metadata": {},
   "outputs": [
    {
     "name": "stdout",
     "output_type": "stream",
     "text": [
      "Addition of a and b is  50\n"
     ]
    }
   ],
   "source": [
    "math_function(a,b,sign1)"
   ]
  },
  {
   "cell_type": "code",
   "execution_count": 4,
   "id": "fa04a5fe",
   "metadata": {},
   "outputs": [
    {
     "name": "stdout",
     "output_type": "stream",
     "text": [
      "Enter the first value :30\n",
      "Enter the second value: 20\n",
      "Enter '+' for addition , '-' for Subration ,'*' for multiplication, '/ for division'*\n",
      "Multiplication of a and b is  600\n"
     ]
    }
   ],
   "source": [
    "a= int(input(\"Enter the first value :\"))\n",
    "b=int(input(\"Enter the second value: \"))\n",
    "sign1=input(\"Enter '+' for addition , '-' for Subration ,'*' for multiplication, '/ for division'\")  \n",
    "math_function(a,b,sign1)"
   ]
  },
  {
   "cell_type": "code",
   "execution_count": 5,
   "id": "4166ef21",
   "metadata": {},
   "outputs": [
    {
     "name": "stdout",
     "output_type": "stream",
     "text": [
      "Enter the first value :30\n",
      "Enter the second value: 20\n",
      "Enter '+' for addition , '-' for Subration ,'*' for multiplication, '/ for division'-\n",
      "Subraction of a and b is  10\n"
     ]
    }
   ],
   "source": [
    "a= int(input(\"Enter the first value :\"))\n",
    "b=int(input(\"Enter the second value: \"))\n",
    "sign1=input(\"Enter '+' for addition , '-' for Subration ,'*' for multiplication, '/ for division'\")  \n",
    "math_function(a,b,sign1)"
   ]
  },
  {
   "cell_type": "code",
   "execution_count": 6,
   "id": "2e01eb23",
   "metadata": {},
   "outputs": [
    {
     "name": "stdout",
     "output_type": "stream",
     "text": [
      "Enter the first value :30\n",
      "Enter the second value: 5\n",
      "Enter '+' for addition , '-' for Subration ,'*' for multiplication, '/ for division'/\n",
      "Division of a and b is  6.0\n"
     ]
    }
   ],
   "source": [
    "a= int(input(\"Enter the first value :\"))\n",
    "b=int(input(\"Enter the second value: \"))\n",
    "sign1=input(\"Enter '+' for addition , '-' for Subration ,'*' for multiplication, '/ for division'\")  \n",
    "math_function(a,b,sign1)"
   ]
  },
  {
   "cell_type": "code",
   "execution_count": null,
   "id": "59e074f2",
   "metadata": {},
   "outputs": [],
   "source": [
    "#create a function covid() and it should accept patient name,body temperature,by default body temperature should be 98 degree"
   ]
  },
  {
   "cell_type": "code",
   "execution_count": 8,
   "id": "537a0c6c",
   "metadata": {},
   "outputs": [],
   "source": [
    "def covid(name,temp):\n",
    "    print(\"Name of patient is\",name)\n",
    "    if temp == '':\n",
    "        print(\"Body Temprature  :98\")\n",
    "    else:\n",
    "        print(\"Body Temprature  :\",temp)"
   ]
  },
  {
   "cell_type": "code",
   "execution_count": 10,
   "id": "9aab0448",
   "metadata": {},
   "outputs": [
    {
     "name": "stdout",
     "output_type": "stream",
     "text": [
      "Enter the patient name :john\n",
      "enter body temprature 99\n",
      "Name of patient is john\n",
      "Body Temprature  : 99\n"
     ]
    }
   ],
   "source": [
    "name=input(\"Enter the patient name :\")\n",
    "temp=input(\"enter body temprature \")\n",
    "covid(name,temp)"
   ]
  }
 ],
 "metadata": {
  "kernelspec": {
   "display_name": "Python 3",
   "language": "python",
   "name": "python3"
  },
  "language_info": {
   "codemirror_mode": {
    "name": "ipython",
    "version": 3
   },
   "file_extension": ".py",
   "mimetype": "text/x-python",
   "name": "python",
   "nbconvert_exporter": "python",
   "pygments_lexer": "ipython3",
   "version": "3.8.1"
  }
 },
 "nbformat": 4,
 "nbformat_minor": 5
}
