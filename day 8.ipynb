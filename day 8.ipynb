{
 "cells": [
  {
   "cell_type": "code",
   "execution_count": null,
   "id": "5a5215db",
   "metadata": {},
   "outputs": [],
   "source": [
    " #Write a Python script to merge two Python dictionaries"
   ]
  },
  {
   "cell_type": "code",
   "execution_count": 1,
   "id": "abf3ec02",
   "metadata": {},
   "outputs": [
    {
     "name": "stdout",
     "output_type": "stream",
     "text": [
      "dic2:  {8: 'e', 10: 'f', 12: 'g'}\n",
      "{0: 'a', 2: 'b', 4: 'c', 6: 'd'}\n",
      "{0: 'a', 2: 'b', 4: 'c', 6: 'd', 8: 'e', 10: 'f', 12: 'g'}\n",
      "{8: 'e', 10: 'f', 12: 'g', 0: 'a', 2: 'b', 4: 'c', 6: 'd'}\n"
     ]
    }
   ],
   "source": [
    "dic1={0:'a',2:'b',4:'c',6:'d'}\n",
    "dic2={8:'e',10:'f',12:'g'}\n",
    "\n",
    "print(\"dic2: \",dic2)\n",
    "\n",
    "dic3={**dic1, **dic2}                             # method 1\n",
    "dic2.update(dic1)                                  # method 2\n",
    "\n",
    "print(dic1)\n",
    "print(dic3)\n",
    "print(dic2)"
   ]
  },
  {
   "cell_type": "code",
   "execution_count": null,
   "id": "9b1f42e9",
   "metadata": {},
   "outputs": [],
   "source": [
    "#Write a program to sort the value from descending to ascending in list and convert it in to a set"
   ]
  },
  {
   "cell_type": "code",
   "execution_count": 2,
   "id": "a433bb04",
   "metadata": {},
   "outputs": [
    {
     "name": "stdout",
     "output_type": "stream",
     "text": [
      "[15, 32, 41, 50, 54, 59, 60, 85, 90, 265, 268]\n"
     ]
    }
   ],
   "source": [
    "list1=[90,60,50,32,41,54,85,268,15,265,59]\n",
    "list1.sort()                                      #sort list in ascending order\n",
    "print(list1)"
   ]
  },
  {
   "cell_type": "code",
   "execution_count": 3,
   "id": "5f0e1a84",
   "metadata": {},
   "outputs": [
    {
     "name": "stdout",
     "output_type": "stream",
     "text": [
      "[268, 265, 90, 85, 60, 59, 54, 50, 41, 32, 15]\n"
     ]
    }
   ],
   "source": [
    "list1.sort(reverse=True)\n",
    "print(list1)"
   ]
  },
  {
   "cell_type": "code",
   "execution_count": 4,
   "id": "1dd16475",
   "metadata": {},
   "outputs": [
    {
     "name": "stdout",
     "output_type": "stream",
     "text": [
      "{32, 265, 41, 268, 15, 50, 85, 54, 90, 59, 60}\n"
     ]
    }
   ],
   "source": [
    "set1=set(list1) \n",
    "print(set1)"
   ]
  },
  {
   "cell_type": "code",
   "execution_count": 5,
   "id": "56a95dde",
   "metadata": {},
   "outputs": [
    {
     "data": {
      "text/plain": [
       "set"
      ]
     },
     "execution_count": 5,
     "metadata": {},
     "output_type": "execute_result"
    }
   ],
   "source": [
    "type(set1)"
   ]
  },
  {
   "cell_type": "code",
   "execution_count": 6,
   "id": "3b08b625",
   "metadata": {},
   "outputs": [
    {
     "data": {
      "text/plain": [
       "list"
      ]
     },
     "execution_count": 6,
     "metadata": {},
     "output_type": "execute_result"
    }
   ],
   "source": [
    "type(list1)"
   ]
  },
  {
   "cell_type": "code",
   "execution_count": null,
   "id": "21c6cf86",
   "metadata": {},
   "outputs": [],
   "source": [
    "#Write a Python program to list number of items in a dictionary key and sort the list with the help of a function & without the function."
   ]
  },
  {
   "cell_type": "code",
   "execution_count": 7,
   "id": "a8f3cba0",
   "metadata": {},
   "outputs": [
    {
     "name": "stdout",
     "output_type": "stream",
     "text": [
      "{'Anuj': [33, 44, 55, 66], 'Divesh': [12, 13, 16, 31], 'Renuka': [12, 43, 54, 77], 'Shriram': [28, 34, 87, 98]}\n"
     ]
    }
   ],
   "source": [
    "dic1={'Divesh':[12,13,31,16],'Renuka':[12,77,54,43],'Shriram':[34,87,28,98],'Anuj':[33,66,55,44]}\n",
    "result={k:sorted(dic1[k]) for k in sorted(dic1)}\n",
    "print(result)"
   ]
  },
  {
   "cell_type": "code",
   "execution_count": 8,
   "id": "c5d2e76b",
   "metadata": {},
   "outputs": [],
   "source": [
    "def function1(dic1):\n",
    "    res = dict()\n",
    "    for key in sorted(dic1):\n",
    "        res[key] = sorted(dic1[key])\n",
    "    return res"
   ]
  },
  {
   "cell_type": "code",
   "execution_count": 9,
   "id": "802db90d",
   "metadata": {},
   "outputs": [
    {
     "data": {
      "text/plain": [
       "{'Anuj': [33, 44, 55, 66],\n",
       " 'Divesh': [12, 13, 16, 31],\n",
       " 'Renuka': [12, 43, 54, 77],\n",
       " 'Shriram': [28, 34, 87, 98]}"
      ]
     },
     "execution_count": 9,
     "metadata": {},
     "output_type": "execute_result"
    }
   ],
   "source": [
    "function1(dic1)"
   ]
  },
  {
   "cell_type": "code",
   "execution_count": 10,
   "id": "8b17a776",
   "metadata": {},
   "outputs": [],
   "source": [
    "def function2(dic1):\n",
    "    res=dict()\n",
    "    min1=dic1[key]\n",
    "    for key in sorted(dic1):\n",
    "        if dic1[key]<min1:\n",
    "            min1=dic1[key]\n",
    "            res[key]=min1\n",
    "    return res"
   ]
  },
  {
   "cell_type": "code",
   "execution_count": 11,
   "id": "9b5abd6a",
   "metadata": {},
   "outputs": [
    {
     "data": {
      "text/plain": [
       "{'Anuj': [33, 44, 55, 66],\n",
       " 'Divesh': [12, 13, 16, 31],\n",
       " 'Renuka': [12, 43, 54, 77],\n",
       " 'Shriram': [28, 34, 87, 98]}"
      ]
     },
     "execution_count": 11,
     "metadata": {},
     "output_type": "execute_result"
    }
   ],
   "source": [
    "function1(dic1)"
   ]
  },
  {
   "cell_type": "code",
   "execution_count": null,
   "id": "32c5c98e",
   "metadata": {},
   "outputs": [],
   "source": [
    "#Write a Python program to get a string from a given string (user input) and change the first occurrence of the word to a user specified input."
   ]
  },
  {
   "cell_type": "code",
   "execution_count": 12,
   "id": "23627890",
   "metadata": {},
   "outputs": [],
   "source": [
    "def string():\n",
    "    user=input(\"Enter the string :\")\n",
    "    word=\"String given by user! \"\n",
    "    return user+word[6:]"
   ]
  },
  {
   "cell_type": "code",
   "execution_count": 13,
   "id": "dd3db049",
   "metadata": {},
   "outputs": [
    {
     "name": "stdout",
     "output_type": "stream",
     "text": [
      "Enter the string :HELLO\n"
     ]
    },
    {
     "data": {
      "text/plain": [
       "'HELLO given by user! '"
      ]
     },
     "execution_count": 13,
     "metadata": {},
     "output_type": "execute_result"
    }
   ],
   "source": [
    "string()"
   ]
  },
  {
   "cell_type": "code",
   "execution_count": 14,
   "id": "0619604a",
   "metadata": {},
   "outputs": [],
   "source": [
    "def string1():\n",
    "    user=input(\"Enter the string :\")\n",
    "    word=\"String is given by user  \"\n",
    "    return word.replace('String',user)"
   ]
  },
  {
   "cell_type": "code",
   "execution_count": 15,
   "id": "84051c63",
   "metadata": {},
   "outputs": [
    {
     "name": "stdout",
     "output_type": "stream",
     "text": [
      "Enter the string :HI\n"
     ]
    },
    {
     "data": {
      "text/plain": [
       "'HI is given by user  '"
      ]
     },
     "execution_count": 15,
     "metadata": {},
     "output_type": "execute_result"
    }
   ],
   "source": [
    "string1()"
   ]
  },
  {
   "cell_type": "code",
   "execution_count": null,
   "id": "ad7edadd",
   "metadata": {},
   "outputs": [],
   "source": [
    "#Write a Python program to get a string from a given string where all occurrences of its first char have been changed to capital letter."
   ]
  },
  {
   "cell_type": "code",
   "execution_count": 16,
   "id": "4252afc6",
   "metadata": {},
   "outputs": [],
   "source": [
    "def function3():\n",
    "    user=input(\"Enter the string :\")\n",
    "    return user.capitalize()"
   ]
  },
  {
   "cell_type": "code",
   "execution_count": 17,
   "id": "095bd7d6",
   "metadata": {},
   "outputs": [
    {
     "name": "stdout",
     "output_type": "stream",
     "text": [
      "Enter the string :hello\n"
     ]
    },
    {
     "data": {
      "text/plain": [
       "'Hello'"
      ]
     },
     "execution_count": 17,
     "metadata": {},
     "output_type": "execute_result"
    }
   ],
   "source": [
    "function3()"
   ]
  },
  {
   "cell_type": "code",
   "execution_count": 18,
   "id": "28e79d46",
   "metadata": {},
   "outputs": [],
   "source": [
    "def change_char(str1):\n",
    "    char = str1[0]\n",
    "    str1 = str1.replace(char, str1[0].upper())\n",
    "    str1 = char + str1[1:]\n",
    "    return str1"
   ]
  },
  {
   "cell_type": "code",
   "execution_count": 19,
   "id": "b9eaffbd",
   "metadata": {},
   "outputs": [
    {
     "data": {
      "text/plain": [
       "'hello world ! tHis is a pytHon program'"
      ]
     },
     "execution_count": 19,
     "metadata": {},
     "output_type": "execute_result"
    }
   ],
   "source": [
    "change_char('hello world ! this is a python program')"
   ]
  },
  {
   "cell_type": "code",
   "execution_count": null,
   "id": "bc314283",
   "metadata": {},
   "outputs": [],
   "source": [
    "#Write a Python program to find the repeated items of a list"
   ]
  },
  {
   "cell_type": "code",
   "execution_count": 20,
   "id": "8a6ef7b8",
   "metadata": {},
   "outputs": [
    {
     "name": "stdout",
     "output_type": "stream",
     "text": [
      "Counter({1: 4, 2: 3, 5: 2, 9: 2, 3: 1, 4: 1, 6: 1, 7: 1, 8: 1})\n",
      "[1, 2, 5, 9]\n"
     ]
    }
   ],
   "source": [
    "from collections import Counter\n",
    " \n",
    "L1 = [1,2,1,2,3,4,5,1,1,2,5,6,7,8,9,9]\n",
    "d = Counter(L1)\n",
    "print(d)\n",
    " \n",
    "new_list = list([item for item in d if d[item]>1])\n",
    "print(new_list)"
   ]
  },
  {
   "cell_type": "code",
   "execution_count": 21,
   "id": "e12950d6",
   "metadata": {},
   "outputs": [
    {
     "name": "stdout",
     "output_type": "stream",
     "text": [
      "[20, 30, -20, 60]\n"
     ]
    }
   ],
   "source": [
    "def Repeat(x):\n",
    "    _size = len(x)\n",
    "    repeated = []\n",
    "    for i in range(_size):\n",
    "        k = i + 1\n",
    "        for j in range(k, _size):\n",
    "            if x[i] == x[j] and x[i] not in repeated:\n",
    "                repeated.append(x[i])\n",
    "    return repeated\n",
    "list1 = [10, 20, 30, 20, 20, 30, 40,\n",
    "         50, -20, 60, 60, -20, -20]\n",
    "print (Repeat(list1))"
   ]
  },
  {
   "cell_type": "code",
   "execution_count": null,
   "id": "dc97329c",
   "metadata": {},
   "outputs": [],
   "source": [
    "#Write a Python program to check the sum of three elements and divided by a value which is given as an input by the user"
   ]
  },
  {
   "cell_type": "code",
   "execution_count": 22,
   "id": "e702289d",
   "metadata": {},
   "outputs": [
    {
     "name": "stdout",
     "output_type": "stream",
     "text": [
      "Enter number :25\n",
      "Enter number :24\n",
      "Enter number :50\n",
      "Sum is:  99\n",
      "Enter the number to divide sum!9\n",
      "The given input divide\n"
     ]
    }
   ],
   "source": [
    "a=int(input(\"Enter number :\"))\n",
    "b=int(input(\"Enter number :\"))\n",
    "c=int(input(\"Enter number :\"))\n",
    "sum=a+b+c\n",
    "print(\"Sum is: \",sum)\n",
    "user=int(input(\"Enter the number to divide sum!\"))\n",
    "if sum% user==0:\n",
    "    print(\"The given input divide\")\n",
    "else :\n",
    "    print(\"The given input does not divide sum1\")\n"
   ]
  },
  {
   "cell_type": "code",
   "execution_count": null,
   "id": "39300d6c",
   "metadata": {},
   "outputs": [],
   "source": [
    "#Write a Python program to find the Mean,median,mode among three given numbers"
   ]
  },
  {
   "cell_type": "code",
   "execution_count": 23,
   "id": "1022d957",
   "metadata": {},
   "outputs": [
    {
     "name": "stdout",
     "output_type": "stream",
     "text": [
      "addition 5\n",
      "mean : 1.6666666666666667\n",
      "median is: 2\n",
      "mode is : 2\n"
     ]
    }
   ],
   "source": [
    "given_numbers = [1,2,2]\n",
    "addition = 0\n",
    "for i in given_numbers:\n",
    "    addition = addition +i\n",
    "print(\"addition\",addition)\n",
    "length = len(given_numbers)\n",
    "mean = addition/length\n",
    "print(\"mean :\",mean)\n",
    "\n",
    "given_numbers.sort()\n",
    "if length%2==0:\n",
    "    median1 = given_numbers[length//2]\n",
    "    median2=given_numbers[length//2-1]\n",
    "    median = (median1+median2)/2\n",
    "else:\n",
    "    median = given_numbers[length//2]\n",
    "print(\"median is:\",median)\n",
    "import statistics\n",
    "mode1=statistics.mode(given_numbers)\n",
    "print(\"mode is :\",mode1)"
   ]
  },
  {
   "cell_type": "code",
   "execution_count": null,
   "id": "1070c42b",
   "metadata": {},
   "outputs": [],
   "source": [
    "#Write a Python program to swap cases of a given string"
   ]
  },
  {
   "cell_type": "code",
   "execution_count": 24,
   "id": "486c071c",
   "metadata": {},
   "outputs": [
    {
     "name": "stdout",
     "output_type": "stream",
     "text": [
      "Hello Sanmitha\n"
     ]
    }
   ],
   "source": [
    "a=\"Sanmitha\"\n",
    "b=\"Hello\"\n",
    "tep=a\n",
    "a=b\n",
    "b=tep\n",
    "print(a,b)"
   ]
  },
  {
   "cell_type": "code",
   "execution_count": 25,
   "id": "318ff141",
   "metadata": {},
   "outputs": [
    {
     "name": "stdout",
     "output_type": "stream",
     "text": [
      "Sanmitha Hello\n"
     ]
    }
   ],
   "source": [
    "x = a\n",
    "y = b\n",
    "x, y = y, x\n",
    "print(x,y)"
   ]
  },
  {
   "cell_type": "code",
   "execution_count": null,
   "id": "27f42628",
   "metadata": {},
   "outputs": [],
   "source": [
    "# Write a program to convert an integer to binary & octa decimal"
   ]
  },
  {
   "cell_type": "code",
   "execution_count": 26,
   "id": "35ae41ac",
   "metadata": {},
   "outputs": [],
   "source": [
    "def decToOctal(n):\n",
    "    octalNum = [0] * 100\n",
    "    i = 0\n",
    "    while (n != 0):\n",
    "        octalNum[i] = n % 8\n",
    "        n = int(n / 8)\n",
    "        i += 1\n",
    "    for j in range(i - 1, -1, -1):\n",
    "        print(octalNum[j], end=\"\")"
   ]
  },
  {
   "cell_type": "code",
   "execution_count": 27,
   "id": "d546e0b2",
   "metadata": {},
   "outputs": [
    {
     "name": "stdout",
     "output_type": "stream",
     "text": [
      "31"
     ]
    }
   ],
   "source": [
    "n=25\n",
    "decToOctal(n)"
   ]
  },
  {
   "cell_type": "code",
   "execution_count": 28,
   "id": "97f2dac2",
   "metadata": {},
   "outputs": [
    {
     "name": "stdout",
     "output_type": "stream",
     "text": [
      "14"
     ]
    }
   ],
   "source": [
    "n=12\n",
    "decToOctal(n)"
   ]
  }
 ],
 "metadata": {
  "kernelspec": {
   "display_name": "Python 3",
   "language": "python",
   "name": "python3"
  },
  "language_info": {
   "codemirror_mode": {
    "name": "ipython",
    "version": 3
   },
   "file_extension": ".py",
   "mimetype": "text/x-python",
   "name": "python",
   "nbconvert_exporter": "python",
   "pygments_lexer": "ipython3",
   "version": "3.8.1"
  }
 },
 "nbformat": 4,
 "nbformat_minor": 5
}
